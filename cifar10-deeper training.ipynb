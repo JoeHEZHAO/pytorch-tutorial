{
 "cells": [
  {
   "cell_type": "code",
   "execution_count": 9,
   "metadata": {
    "collapsed": true
   },
   "outputs": [],
   "source": [
    "import torch\n",
    "import torchvision\n",
    "from torch.autograd import Variable\n",
    "import torchvision.transforms as transforms\n",
    "import matplotlib.pyplot as plt\n",
    "import numpy as np\n",
    "import torch.optim as optim\n",
    "import torch.nn as nn\n",
    "import torch.nn.functional as F\n",
    "from models import Cifar10_Net\n",
    "from cifar10_dataloader import CIFAR10\n",
    "\n"
   ]
  },
  {
   "cell_type": "code",
   "execution_count": 10,
   "metadata": {
    "collapsed": true
   },
   "outputs": [],
   "source": [
    "#define network for cifar10\n",
    "class Net(nn.Module):\n",
    "    def __init__(self):\n",
    "        super(Net, self).__init__()\n",
    "        self.conv1 = nn.Conv2d(3,6,3, padding=1, stride=1, dilation=1)\n",
    "        self.conv2 = nn.Conv2d(6,16,3, padding=1, stride=1, dilation=1)\n",
    "        self.conv3 = nn.Conv2d(16,32,3, padding=1, stride=1, dilation=1)\n",
    "        self.fc1 = nn.Linear(512, 256)\n",
    "        self.fc2 = nn.Linear(256, 128)\n",
    "        self.fc3 = nn.Linear(128, 10)\n",
    "\n",
    "    def forward(self, x):\n",
    "        x = F.relu(F.max_pool2d(self.conv1(x), 2))\n",
    "        x = F.relu(F.max_pool2d(self.conv2(x), 2))\n",
    "        x = F.relu(F.max_pool2d(self.conv3(x), 2))\n",
    "        x = x.view(-1, 32 * 4 * 4)\n",
    "        x = F.relu(self.fc1(x))\n",
    "        x = F.relu(self.fc2(x))\n",
    "        x = self.fc3(x)\n",
    "        return x"
   ]
  },
  {
   "cell_type": "code",
   "execution_count": 11,
   "metadata": {},
   "outputs": [
    {
     "name": "stdout",
     "output_type": "stream",
     "text": [
      "Files already downloaded and verified\n",
      "Files already downloaded and verified\n"
     ]
    },
    {
     "data": {
      "image/png": "[encoded data removed]",
      "text/plain": [
       "<matplotlib.figure.Figure at 0x1016f6ef0>"
      ]
     },
     "metadata": {},
     "output_type": "display_data"
    },
    {
     "name": "stdout",
     "output_type": "stream",
     "text": [
      "truck  deer horse truck\n"
     ]
    }
   ],
   "source": [
    "# load cifar10 data\n",
    "c10 = CIFAR10()\n",
    "c10.imshow()"
   ]
  },
  {
   "cell_type": "code",
   "execution_count": 12,
   "metadata": {
    "collapsed": true
   },
   "outputs": [],
   "source": [
    "# init CNN, loss and optimizer\n",
    "net = Net()\n",
    "lr = 0.001\n",
    "momentum = 0.9\n",
    "optimizer = optim.SGD(net.parameters(), lr, momentum)\n",
    "criterion = nn.CrossEntropyLoss()"
   ]
  },
  {
   "cell_type": "code",
   "execution_count": 15,
   "metadata": {},
   "outputs": [
    {
     "name": "stdout",
     "output_type": "stream",
     "text": [
      "[1,  2000] loss: 1.511\n",
      "[1,  4000] loss: 1.444\n",
      "[1,  6000] loss: 1.384\n",
      "[1,  8000] loss: 1.340\n",
      "[1, 10000] loss: 1.277\n",
      "[1, 12000] loss: 1.259\n",
      "[2,  2000] loss: 1.479\n",
      "[2,  4000] loss: 1.155\n",
      "[2,  6000] loss: 1.153\n",
      "[2,  8000] loss: 1.108\n",
      "[2, 10000] loss: 1.120\n",
      "[2, 12000] loss: 1.083\n",
      "[3,  2000] loss: 1.280\n",
      "[3,  4000] loss: 1.003\n",
      "[3,  6000] loss: 0.992\n",
      "[3,  8000] loss: 0.996\n",
      "[3, 10000] loss: 0.989\n",
      "[3, 12000] loss: 0.981\n",
      "[4,  2000] loss: 1.119\n",
      "[4,  4000] loss: 0.910\n",
      "[4,  6000] loss: 0.882\n",
      "[4,  8000] loss: 0.914\n",
      "[4, 10000] loss: 0.911\n",
      "[4, 12000] loss: 0.909\n"
     ]
    }
   ],
   "source": [
    "runing_loss = 0.0\n",
    "for epoch in range(4):\n",
    "    for i, data in enumerate(c10.trainLoader()):\n",
    "        input, label = data\n",
    "        input, label = Variable(input), Variable(label)\n",
    "\n",
    "        optimizer.zero_grad()\n",
    "        \n",
    "        out = net(input)\n",
    "        \n",
    "        loss = criterion(out, label)\n",
    "        loss.backward()\n",
    "        \n",
    "        optimizer.step()\n",
    "        \n",
    "        runing_loss += loss.data[0]\n",
    "        \n",
    "        if i % 2000 == 1999:\n",
    "            print('[%d, %5d] loss: %.3f' % \n",
    "                  (epoch + 1, i + 1, runing_loss/2000))\n",
    "            runing_loss = 0.0\n",
    "        "
   ]
  },
  {
   "cell_type": "code",
   "execution_count": 47,
   "metadata": {},
   "outputs": [
    {
     "name": "stdout",
     "output_type": "stream",
     "text": [
      "start calculate the result......\n",
      "10000 6536\n",
      "Accuracy for 10000 images is 65.360000\n",
      "Finish calculate result\n"
     ]
    }
   ],
   "source": [
    "#test network\n",
    "total = 0\n",
    "correct = 0\n",
    "\n",
    "# print(len(c10.testLoader())\n",
    "print('start calculate the result......')\n",
    "for i, data in enumerate(c10.testLoader()):\n",
    "    input, label = data\n",
    "    out = net(Variable(input))\n",
    "    _, prediction = torch.max(out.data, 1)\n",
    "    \n",
    "#     print(prediction)\n",
    "#     print('Num %d test: ' % i)\n",
    "#     print('Testing result is: ', ' '.join('%5s' % c10.classes[prediction[j][0]] for j in range(4)))\n",
    "#     print('GroundTruth is :', ' '.join('%5s' % c10.classes[label[j]] for j in range(4)))\n",
    "    \n",
    "    total += label.size(0)\n",
    "    correct += (prediction == label).sum()\n",
    "    \n",
    "    if i == 2499:\n",
    "        print(total, correct)\n",
    "        print('Accuracy for %5d images is %2f' % (total, 100 * correct / total))\n",
    "        print('Finish calculate result')\n",
    "        break;"
   ]
  },
  {
   "cell_type": "code",
   "execution_count": 52,
   "metadata": {},
   "outputs": [
    {
     "name": "stdout",
     "output_type": "stream",
     "text": [
      "Accuracy of plane : 78 %\n",
      "Accuracy of   car : 73 %\n",
      "Accuracy of  bird : 52 %\n",
      "Accuracy of   cat : 32 %\n",
      "Accuracy of  deer : 63 %\n",
      "Accuracy of   dog : 42 %\n",
      "Accuracy of  frog : 82 %\n",
      "Accuracy of horse : 71 %\n",
      "Accuracy of  ship : 83 %\n",
      "Accuracy of truck : 72 %\n"
     ]
    }
   ],
   "source": [
    "#do test on each class\n",
    "class_correct = list(0. for i in range(10))\n",
    "class_total = list(0. for i in range(10))\n",
    "\n",
    "for i, data in enumerate(c10.testLoader()):\n",
    "    input, labels = data\n",
    "    out = net(Variable(input))\n",
    "    _, prediction = torch.max(out.data, 1)\n",
    "    \n",
    "    c = (prediction == labels).squeeze()\n",
    "    for i in range(4):\n",
    "        label = labels[i]\n",
    "        class_correct[label] += c[i]\n",
    "        class_total[label] += 1\n",
    "        \n",
    "for i in range(10):\n",
    "    print('Accuracy of %5s : %2d %%' % (\n",
    "        c10.classes[i], 100 * class_correct[i] / class_total[i]))"
   ]
  },
  {
   "cell_type": "code",
   "execution_count": null,
   "metadata": {
    "collapsed": true
   },
   "outputs": [],
   "source": []
  }
 ],
 "metadata": {
  "kernelspec": {
   "display_name": "Python 3",
   "language": "python",
   "name": "python3"
  },
  "language_info": {
   "codemirror_mode": {
    "name": "ipython",
    "version": 3
   },
   "file_extension": ".py",
   "mimetype": "text/x-python",
   "name": "python",
   "nbconvert_exporter": "python",
   "pygments_lexer": "ipython3",
   "version": "3.6.1"
  }
 },
 "nbformat": 4,
 "nbformat_minor": 2
}
