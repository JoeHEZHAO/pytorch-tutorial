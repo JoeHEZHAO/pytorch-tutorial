{
 "cells": [
  {
   "cell_type": "code",
   "execution_count": 26,
   "metadata": {},
   "outputs": [
    {
     "name": "stdout",
     "output_type": "stream",
     "text": [
      "\n",
      " 0.5724  0.2372  0.2282\n",
      " 0.3150  0.8211  0.6129\n",
      " 0.1751  0.0220  0.0791\n",
      " 0.9789  0.5600  0.2562\n",
      " 0.7778  0.4547  0.4238\n",
      "[torch.FloatTensor of size 5x3]\n",
      "\n",
      "\n",
      " 0.5724\n",
      " 0.2372\n",
      " 0.2282\n",
      "[torch.FloatTensor of size 3]\n",
      "\n",
      "Variable containing:\n",
      " 0.4126  0.2951  0.2924\n",
      " 0.2496  0.4141  0.3363\n",
      " 0.3615  0.3102  0.3284\n",
      " 0.4666  0.3069  0.2265\n",
      " 0.4122  0.2984  0.2893\n",
      "[torch.FloatTensor of size 5x3]\n",
      "\n"
     ]
    }
   ],
   "source": [
    "import torch\n",
    "import torchvision\n",
    "import torch.nn as nn\n",
    "from torch.autograd import Variable\n",
    "from torch.nn.functional import softmax\n",
    "\n",
    "input = torch.rand(5,3)\n",
    "print(input)\n",
    "print(input[0])\n",
    "\n",
    "## For each row do softmax, and the number of classes is depend on how many dims you have for each row\n",
    "## So our prediction result should be the number of class we want to have;\n",
    "out = softmax(Variable(input))\n",
    "print(out)"
   ]
  }
 ],
 "metadata": {
  "kernelspec": {
   "display_name": "Python 3",
   "language": "python",
   "name": "python3"
  },
  "language_info": {
   "codemirror_mode": {
    "name": "ipython",
    "version": 3
   },
   "file_extension": ".py",
   "mimetype": "text/x-python",
   "name": "python",
   "nbconvert_exporter": "python",
   "pygments_lexer": "ipython3",
   "version": "3.6.1"
  }
 },
 "nbformat": 4,
 "nbformat_minor": 2
}
