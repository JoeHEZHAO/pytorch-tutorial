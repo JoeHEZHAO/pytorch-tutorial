{
 "cells": [
  {
   "cell_type": "code",
   "execution_count": 17,
   "metadata": {},
   "outputs": [
    {
     "name": "stdout",
     "output_type": "stream",
     "text": [
      "Files already downloaded and verified\n",
      "Files already downloaded and verified\n"
     ]
    },
    {
     "data": {
      "image/png": "[encoded data removed]",
      "text/plain": [
       "<matplotlib.figure.Figure at 0x112bfaf98>"
      ]
     },
     "metadata": {},
     "output_type": "display_data"
    },
    {
     "name": "stdout",
     "output_type": "stream",
     "text": [
      "horse plane  ship  frog\n"
     ]
    }
   ],
   "source": [
    "import torch\n",
    "import torchvision\n",
    "from torch.autograd import Variable\n",
    "import torchvision.transforms as transforms\n",
    "import matplotlib.pyplot as plt\n",
    "import numpy as np\n",
    "import torch.optim as optim\n",
    "import torch.nn as nn\n",
    "import torch.nn.functional as F\n",
    "from cifar10_dataloader import CIFAR10\n",
    "\n",
    "c10 = CIFAR10()\n",
    "c10.imshow()"
   ]
  },
  {
   "cell_type": "code",
   "execution_count": 58,
   "metadata": {},
   "outputs": [
    {
     "name": "stdout",
     "output_type": "stream",
     "text": [
      "torch.Size([4, 3, 32, 32])\n",
      "Variable containing:\n",
      "1.00000e-02 *\n",
      " -2.7579 -0.6637 -2.0347 -9.0737 -8.0166  1.7578 -4.3338 -3.3015 -4.5692 -5.5652\n",
      " -2.4813 -0.3898 -1.7682 -8.5454 -7.9043  1.0709 -3.9074 -3.1181 -4.2522 -4.9968\n",
      " -2.4576 -0.8435 -1.9083 -8.5082 -7.8308  1.4710 -4.1279 -3.2591 -4.4051 -5.3459\n",
      " -2.6361 -0.4425 -1.6611 -8.4355 -7.9641  1.4919 -4.1706 -3.6196 -4.0622 -5.0144\n",
      "[torch.FloatTensor of size 4x10]\n",
      "\n",
      "\n",
      " 5\n",
      " 5\n",
      " 5\n",
      " 5\n",
      "[torch.LongTensor of size 4x1]\n",
      "\n"
     ]
    }
   ],
   "source": [
    "dataiter = iter(c10.trainLoader())\n",
    "images, labels = dataiter.next()\n",
    "print(images.size())\n",
    "input, label = Variable(images), Variable(labels)\n",
    "\n",
    "#define network for cifar10\n",
    "class Net(nn.Module):\n",
    "    def __init__(self):\n",
    "        super(Net, self).__init__()\n",
    "        self.conv1 = nn.Conv2d(3,6,3, padding=1, stride=1, dilation=1)\n",
    "        self.conv2 = nn.Conv2d(6,16,3, padding=1, stride=1, dilation=1)\n",
    "        self.conv3 = nn.Conv2d(16,32,3, padding=1, stride=1, dilation=1)\n",
    "        self.fc1 = nn.Linear(512, 256)\n",
    "        self.fc2 = nn.Linear(256, 128)\n",
    "        self.fc3 = nn.Linear(128, 10)\n",
    "\n",
    "    def forward(self, x):\n",
    "        x = F.relu(F.max_pool2d(self.conv1(x), 2))\n",
    "        x = F.relu(F.max_pool2d(self.conv2(x), 2))\n",
    "        x = F.relu(F.max_pool2d(self.conv3(x), 2))\n",
    "        x = x.view(-1, 32 * 4 * 4)\n",
    "        x = F.relu(self.fc1(x))\n",
    "        x = F.relu(self.fc2(x))\n",
    "        x = self.fc3(x)\n",
    "        return x\n",
    "\n",
    "net = Net()\n",
    "out = net(input)\n",
    "\n",
    "# print(\"Below is output: \")\n",
    "print(out)\n",
    "_, prediction = torch.max(out.data, 1)\n",
    "# print(\"Below is prediction: \")\n",
    "print(prediction)\n",
    "\n",
    "# prediction = torch.max(out.data, 1)\n",
    "# print(c10.classes())\n",
    "#Get max value from array\n"
   ]
  },
  {
   "cell_type": "code",
   "execution_count": 57,
   "metadata": {},
   "outputs": [
    {
     "name": "stdout",
     "output_type": "stream",
     "text": [
      "\n",
      " 1.9568  0.7808  1.0067 -0.8498\n",
      " 0.9168  2.2595  1.0309 -0.0753\n",
      "-0.7001 -1.4192  0.1141  0.4061\n",
      "-0.1505 -0.4639  0.6777 -0.0102\n",
      "[torch.FloatTensor of size 4x4]\n",
      "\n",
      "(\n",
      " 1.9568\n",
      " 2.2595\n",
      " 0.4061\n",
      " 0.6777\n",
      "[torch.FloatTensor of size 4x1]\n",
      ", \n",
      " 0\n",
      " 1\n",
      " 3\n",
      " 2\n",
      "[torch.LongTensor of size 4x1]\n",
      ")\n"
     ]
    }
   ],
   "source": [
    "##try torch.max function, dim 1 and dim -1 => row max; dim -2 => column max\n",
    "# a = torch.randn(4, 4)\n",
    "# print(a)\n",
    "# b = torch.max(a, -1)\n",
    "# print(b)"
   ]
  },
  {
   "cell_type": "code",
   "execution_count": null,
   "metadata": {
    "collapsed": true
   },
   "outputs": [],
   "source": []
  }
 ],
 "metadata": {
  "kernelspec": {
   "display_name": "Python 3",
   "language": "python",
   "name": "python3"
  },
  "language_info": {
   "codemirror_mode": {
    "name": "ipython",
    "version": 3
   },
   "file_extension": ".py",
   "mimetype": "text/x-python",
   "name": "python",
   "nbconvert_exporter": "python",
   "pygments_lexer": "ipython3",
   "version": "3.6.1"
  }
 },
 "nbformat": 4,
 "nbformat_minor": 2
}
